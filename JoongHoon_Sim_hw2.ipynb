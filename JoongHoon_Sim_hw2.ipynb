{
 "nbformat": 4,
 "nbformat_minor": 2,
 "metadata": {
  "language_info": {
   "name": "python",
   "codemirror_mode": {
    "name": "ipython",
    "version": 3
   },
   "version": "3.7.4-final"
  },
  "orig_nbformat": 2,
  "file_extension": ".py",
  "mimetype": "text/x-python",
  "name": "python",
  "npconvert_exporter": "python",
  "pygments_lexer": "ipython3",
  "version": 3,
  "kernelspec": {
   "name": "python3",
   "display_name": "Python 3"
  }
 },
 "cells": [
  {
   "cell_type": "code",
   "execution_count": 25,
   "metadata": {},
   "outputs": [],
   "source": [
    "import csv\n",
    "from collections import defaultdict\n",
    "from statistics import mean\n"
   ]
  },
  {
   "cell_type": "code",
   "execution_count": 41,
   "metadata": {},
   "outputs": [
    {
     "data": {
      "text/plain": "defaultdict(list,\n            {100: [2, 2, 5, 4, 3],\n             98: [1, 4, 1, 1, 2, 5, 3, 4, 5, 2, 1, 5],\n             101: [3, 3, 5, 4, 0, 5, 5, 4, 4],\n             102: [3, 5, 2, 5, 5, 1, 1, 5],\n             99: [0, 0, 2, 1, 1, 2, 5, 0, 4, 5, 0, 5],\n             97: [4, 1, 0, 4, 1, 4, 1, 4, 3, 5, 2, 0, 5, 1],\n             103: [4, 3, 4, 5],\n             105: [0, 4, 3],\n             104: [3],\n             108: [4, 4],\n             106: [3, 5],\n             107: [0, 2]})"
     },
     "execution_count": 41,
     "metadata": {},
     "output_type": "execute_result"
    }
   ],
   "source": [
    "# Read csv into dictionaries\n",
    "reader = csv.DictReader(open('movies.csv'))\n",
    "movieIDRatings = defaultdict(list)\n",
    "for row in reader:\n",
    "    movieIDRatings[int(row['movieID'])].append(int(row['rating']))\n",
    "    #movieIDRatings.append({'movieID' : int(row['movieID']), \n",
    "                           # 'rating' : int(row['rating'])})\n",
    "                            \n",
    "\n",
    "movieIDRatings\n",
    "\n"
   ]
  },
  {
   "cell_type": "code",
   "execution_count": 42,
   "metadata": {},
   "outputs": [],
   "source": [
    "for key in movieIDRatings:\n",
    "    movieIDRatings[key] = mean(movieIDRatings[key])"
   ]
  },
  {
   "cell_type": "code",
   "execution_count": 44,
   "metadata": {},
   "outputs": [
    {
     "name": "stdout",
     "output_type": "stream",
     "text": "(97, 2.5)\n(98, 2.8333333333333335)\n(99, 2.0833333333333335)\n(100, 3.2)\n(101, 3.6666666666666665)\n(102, 3.375)\n(103, 4)\n(104, 3)\n(105, 2.3333333333333335)\n(106, 4)\n(107, 1)\n(108, 4)\n"
    },
    {
     "data": {
      "text/plain": "defaultdict(list,\n            {100: 3.2,\n             98: 2.8333333333333335,\n             101: 3.6666666666666665,\n             102: 3.375,\n             99: 2.0833333333333335,\n             97: 2.5,\n             103: 4,\n             105: 2.3333333333333335,\n             104: 3,\n             108: 4,\n             106: 4,\n             107: 1})"
     },
     "execution_count": 44,
     "metadata": {},
     "output_type": "execute_result"
    }
   ],
   "source": [
    "for row in sorted(movieIDRatings.items()):\n",
    "    print(row)\n",
    "    \n",
    "movieIDRatings"
   ]
  },
  {
   "cell_type": "code",
   "execution_count": 49,
   "metadata": {},
   "outputs": [],
   "source": [
    "# write csv\n",
    "\n",
    "filename = 'task1.csv'\n",
    "with open(filename, mode = 'w', newline='') as csvFile:\n",
    "    fieldnames = ['movieID', 'avgRating']\n",
    "    writer = csv.DictWriter(csvFile, fieldnames=fieldnames)\n",
    "    \n",
    "    #writer.writeheader()\n",
    "    for row in sorted(movieIDRatings.keys()):\n",
    "        writer.writerow({'movieID': row, \n",
    "                        'avgRating': round(movieIDRatings[row], 1)})\n",
    "    "
   ]
  },
  {
   "cell_type": "code",
   "execution_count": 48,
   "metadata": {},
   "outputs": [],
   "source": [
    "filename2 = 'task2.csv'\n",
    "with open(filename2, mode = 'w', newline='') as csvFile:\n",
    "    fieldnames = ['movieID', 'avgRating']\n",
    "    writer = csv.DictWriter(csvFile, fieldnames=fieldnames)\n",
    "    \n",
    "    writer.writeheader()\n",
    "    for row in sorted(movieIDRatings.keys()):\n",
    "        writer.writerow({'movieID': row, \n",
    "                        'avgRating': round(movieIDRatings[row], 1)})\n",
    "    "
   ]
  },
  {
   "cell_type": "code",
   "execution_count": null,
   "metadata": {},
   "outputs": [],
   "source": []
  },
  {
   "cell_type": "code",
   "execution_count": null,
   "metadata": {},
   "outputs": [],
   "source": []
  },
  {
   "cell_type": "code",
   "execution_count": null,
   "metadata": {},
   "outputs": [],
   "source": []
  },
  {
   "cell_type": "code",
   "execution_count": null,
   "metadata": {},
   "outputs": [],
   "source": []
  }
 ]
}